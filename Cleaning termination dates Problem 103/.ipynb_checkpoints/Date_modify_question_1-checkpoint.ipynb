{
 "cells": [
  {
   "cell_type": "markdown",
   "metadata": {},
   "source": [
    "<b>\n",
    "Given this dataset, write code to put the Cease Date column into YYYY format. You'll notice the column is currently in a mix of various formats. We're going to use the year in the Cease Date column in a later related question.\n",
    "<b>"
   ]
  },
  {
   "cell_type": "code",
   "execution_count": null,
   "metadata": {},
   "outputs": [],
   "source": [
    "import pandas as pd"
   ]
  },
  {
   "cell_type": "code",
   "execution_count": 2,
   "metadata": {},
   "outputs": [],
   "source": [
    "date_df = pd.read_csv(\"dete-exit-survey-january-2014.csv\")"
   ]
  },
  {
   "cell_type": "code",
   "execution_count": 3,
   "metadata": {},
   "outputs": [
    {
     "data": {
      "text/plain": [
       "Index(['ID', 'SeparationType', 'Cease Date', 'DETE Start Date',\n",
       "       'Role Start Date', 'Position', 'Classification', 'Region',\n",
       "       'Business Unit', 'Employment Status', 'Career move to public sector',\n",
       "       'Career move to private sector', 'Interpersonal conflicts',\n",
       "       'Job dissatisfaction', 'Dissatisfaction with the department',\n",
       "       'Physical work environment', 'Lack of recognition',\n",
       "       'Lack of job security', 'Work location', 'Employment conditions',\n",
       "       'Maternity/family', 'Relocation', 'Study/Travel', 'Ill Health',\n",
       "       'Traumatic incident', 'Work life balance', 'Workload',\n",
       "       'None of the above', 'Professional Development',\n",
       "       'Opportunities for promotion', 'Staff morale', 'Workplace issue',\n",
       "       'Physical environment', 'Worklife balance',\n",
       "       'Stress and pressure support', 'Performance of supervisor',\n",
       "       'Peer support', 'Initiative', 'Skills', 'Coach', 'Career Aspirations',\n",
       "       'Feedback', 'Further PD', 'Communication', 'My say', 'Information',\n",
       "       'Kept informed', 'Wellness programs', 'Health & Safety', 'Gender',\n",
       "       'Age', 'Aboriginal', 'Torres Strait', 'South Sea', 'Disability',\n",
       "       'NESB'],\n",
       "      dtype='object')"
      ]
     },
     "execution_count": 3,
     "metadata": {},
     "output_type": "execute_result"
    }
   ],
   "source": [
    "date_df.columns"
   ]
  },
  {
   "cell_type": "code",
   "execution_count": 6,
   "metadata": {},
   "outputs": [
    {
     "data": {
      "text/plain": [
       "0         08/2012\n",
       "1         08/2012\n",
       "2         05/2012\n",
       "3         05/2012\n",
       "4         05/2012\n",
       "5         05/2012\n",
       "6         05/2012\n",
       "7         05/2012\n",
       "8         07/2012\n",
       "9            2012\n",
       "10           2012\n",
       "11           2012\n",
       "12           2012\n",
       "13           2012\n",
       "14           2012\n",
       "15           2012\n",
       "16           2012\n",
       "17           2012\n",
       "18           2012\n",
       "19           2012\n",
       "20           2012\n",
       "21           2012\n",
       "22           2012\n",
       "23           2012\n",
       "24           2012\n",
       "25           2012\n",
       "26           2012\n",
       "27           2012\n",
       "28           2012\n",
       "29           2012\n",
       "          ...    \n",
       "792    Not Stated\n",
       "793       12/2013\n",
       "794       11/2013\n",
       "795    Not Stated\n",
       "796    Not Stated\n",
       "797    Not Stated\n",
       "798    Not Stated\n",
       "799    Not Stated\n",
       "800       01/2014\n",
       "801       01/2014\n",
       "802       12/2013\n",
       "803       01/2014\n",
       "804       01/2014\n",
       "805    Not Stated\n",
       "806       12/2013\n",
       "807       12/2013\n",
       "808       12/2013\n",
       "809       01/2014\n",
       "810    Not Stated\n",
       "811       12/2013\n",
       "812       01/2014\n",
       "813       11/2013\n",
       "814       11/2013\n",
       "815       01/2014\n",
       "816       01/2014\n",
       "817       02/2014\n",
       "818       01/2014\n",
       "819       01/2014\n",
       "820       12/2013\n",
       "821       12/2013\n",
       "Name: Cease Date, Length: 822, dtype: object"
      ]
     },
     "execution_count": 6,
     "metadata": {},
     "output_type": "execute_result"
    }
   ],
   "source": [
    "date_df['Cease Date']"
   ]
  },
  {
   "cell_type": "code",
   "execution_count": 7,
   "metadata": {},
   "outputs": [],
   "source": [
    "import re"
   ]
  },
  {
   "cell_type": "code",
   "execution_count": 18,
   "metadata": {},
   "outputs": [
    {
     "name": "stderr",
     "output_type": "stream",
     "text": [
      "/Users/snehgurdasani/anaconda3/lib/python3.7/site-packages/ipykernel_launcher.py:14: SettingWithCopyWarning: \n",
      "A value is trying to be set on a copy of a slice from a DataFrame\n",
      "\n",
      "See the caveats in the documentation: http://pandas.pydata.org/pandas-docs/stable/indexing.html#indexing-view-versus-copy\n",
      "  \n"
     ]
    },
    {
     "name": "stdout",
     "output_type": "stream",
     "text": [
      "Count_month_year: 0\n",
      "Count_year: 788\n",
      "Count_not_stated: 34\n",
      "Total: 822\n"
     ]
    }
   ],
   "source": [
    "# Checking the types of dates in the column\n",
    "count_my = 0\n",
    "count_y = 0\n",
    "count_ns = 0\n",
    "for ind in date_df.index:\n",
    "    if re.match(r'\\d*/',date_df['Cease Date'][ind]):\n",
    "        count_my += 1\n",
    "        date_df['Cease Date'][ind] = re.search(r'/(\\d\\d\\d\\d)',date_df['Cease Date'][ind]).group(1)\n",
    "    elif re.match(r'\\d\\d\\d\\d',date_df['Cease Date'][ind]):\n",
    "        count_y += 1\n",
    "    elif re.match(r'Not Stated',date_df['Cease Date'][ind]):\n",
    "        count_ns += 1\n",
    "        date_df['Cease Date'][ind] = '----'\n",
    "print(f'Count_month_year: {count_my}')\n",
    "print(f'Count_year: {count_y}')\n",
    "print(f'Count_not_stated: {count_ns}')\n",
    "print(f'Total: {count_my + count_y + count_ns}')"
   ]
  },
  {
   "cell_type": "code",
   "execution_count": 16,
   "metadata": {},
   "outputs": [
    {
     "data": {
      "text/plain": [
       "'2012'"
      ]
     },
     "execution_count": 16,
     "metadata": {},
     "output_type": "execute_result"
    }
   ],
   "source": []
  },
  {
   "cell_type": "code",
   "execution_count": null,
   "metadata": {},
   "outputs": [],
   "source": []
  }
 ],
 "metadata": {
  "kernelspec": {
   "display_name": "Python 3",
   "language": "python",
   "name": "python3"
  },
  "language_info": {
   "codemirror_mode": {
    "name": "ipython",
    "version": 3
   },
   "file_extension": ".py",
   "mimetype": "text/x-python",
   "name": "python",
   "nbconvert_exporter": "python",
   "pygments_lexer": "ipython3",
   "version": "3.7.3"
  }
 },
 "nbformat": 4,
 "nbformat_minor": 2
}
